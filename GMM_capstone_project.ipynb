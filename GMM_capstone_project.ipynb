{
 "cells": [
  {
   "cell_type": "markdown",
   "id": "b19fc4c1",
   "metadata": {},
   "source": [
    "# Capstone Project: Gaussian Mixture Models (GMMs)\n",
    "\n",
    "### Student: Mohammad Faridul Alam  \n",
    "### Course: Capstone Project – Clinical Bioinformatics  \n",
    "### Date: July 2025\n",
    "\n",
    "---\n",
    "\n",
    "## 1. Introduction\n",
    "\n",
    "Gaussian Mixture Models (GMMs) are a probabilistic unsupervised learning algorithm used for clustering data into groups.\n",
    "Unlike k-Means which uses hard assignments, GMM provides soft probabilistic assignments allowing for more nuanced clustering.\n"
   ]
  },
  {
   "cell_type": "markdown",
   "id": "ee292cf4",
   "metadata": {},
   "source": [
    "## 2. How It Works\n",
    "\n",
    "A GMM assumes the data is generated from a mixture of multiple Gaussian distributions, each with its own mean and covariance.\n",
    "It uses the Expectation-Maximization (EM) algorithm:\n",
    "\n",
    "- **E-step**: Estimate the probability that each data point belongs to each Gaussian component.\n",
    "- **M-step**: Update the component parameters (mean, covariance, mixing coefficients) based on these probabilities.\n",
    "\n",
    "### Probability Density Function\n",
    "\n",
    "Given K components:\n",
    "\n",
    "```math\n",
    "p(x) = \\sum_{k=1}^K \\pi_k \\cdot \\mathcal{N}(x \\mid \\mu_k, \\Sigma_k)\n",
    "```\n"
   ]
  },
  {
   "cell_type": "markdown",
   "id": "de127032",
   "metadata": {},
   "source": [
    "## 3. Code Implementation (GMM)\n",
    "\n",
    "This section demonstrates GMM implementation on synthetic 2D data.\n"
   ]
  },
  {
   "cell_type": "code",
   "execution_count": null,
   "id": "ab74e209",
   "metadata": {},
   "outputs": [],
   "source": [
    "from sklearn.datasets import make_blobs\n",
    "from sklearn.preprocessing import StandardScaler\n",
    "from sklearn.mixture import GaussianMixture\n",
    "import matplotlib.pyplot as plt\n",
    "\n",
    "# Generate synthetic data\n",
    "X, y_true = make_blobs(n_samples=300, centers=3, cluster_std=0.60, random_state=42)\n",
    "scaler = StandardScaler()\n",
    "X_scaled = scaler.fit_transform(X)\n",
    "\n",
    "# Fit GMM\n",
    "gmm = GaussianMixture(n_components=3, covariance_type='full', random_state=42)\n",
    "gmm.fit(X_scaled)\n",
    "labels = gmm.predict(X_scaled)\n",
    "\n",
    "# Plot the results\n",
    "plt.figure(figsize=(8,6))\n",
    "plt.scatter(X_scaled[:, 0], X_scaled[:, 1], c=labels, cmap='viridis')\n",
    "plt.title(\"GMM Clustering\")\n",
    "plt.xlabel(\"Feature 1\")\n",
    "plt.ylabel(\"Feature 2\")\n",
    "plt.grid(True)\n",
    "plt.show()\n"
   ]
  },
  {
   "cell_type": "markdown",
   "id": "5369190d",
   "metadata": {},
   "source": [
    "## 4. Comparison with k-Means\n",
    "\n",
    "To evaluate GMM, we compare it with k-Means clustering using:\n",
    "- Visual cluster assignments\n",
    "- Silhouette Scores\n"
   ]
  },
  {
   "cell_type": "code",
   "execution_count": null,
   "id": "ada90013",
   "metadata": {},
   "outputs": [],
   "source": [
    "from sklearn.cluster import KMeans\n",
    "from sklearn.metrics import silhouette_score\n",
    "\n",
    "# Fit k-Means\n",
    "kmeans = KMeans(n_clusters=3, random_state=42)\n",
    "kmeans_labels = kmeans.fit_predict(X_scaled)\n",
    "\n",
    "# Silhouette Scores\n",
    "kmeans_sil = silhouette_score(X_scaled, kmeans_labels)\n",
    "gmm_sil = silhouette_score(X_scaled, labels)\n",
    "\n",
    "print(f\"Silhouette Score - k-Means: {kmeans_sil:.3f}\")\n",
    "print(f\"Silhouette Score - GMM: {gmm_sil:.3f}\")\n"
   ]
  },
  {
   "cell_type": "code",
   "execution_count": null,
   "id": "0a15e392",
   "metadata": {},
   "outputs": [],
   "source": [
    "# Side-by-side plots\n",
    "fig, axs = plt.subplots(1, 2, figsize=(14, 5))\n",
    "\n",
    "axs[0].scatter(X_scaled[:, 0], X_scaled[:, 1], c=kmeans_labels, cmap='plasma')\n",
    "axs[0].set_title(\"k-Means Clustering\")\n",
    "axs[0].grid(True)\n",
    "\n",
    "axs[1].scatter(X_scaled[:, 0], X_scaled[:, 1], c=labels, cmap='viridis')\n",
    "axs[1].set_title(\"GMM Clustering\")\n",
    "axs[1].grid(True)\n",
    "\n",
    "plt.show()\n"
   ]
  }
 ],
 "metadata": {},
 "nbformat": 4,
 "nbformat_minor": 5
}
